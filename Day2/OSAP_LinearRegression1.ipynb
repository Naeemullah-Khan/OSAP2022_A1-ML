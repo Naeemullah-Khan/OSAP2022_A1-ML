{
  "nbformat": 4,
  "nbformat_minor": 0,
  "metadata": {
    "colab": {
      "name": "OSAP_LinearRegression1.ipynb",
      "provenance": [],
      "collapsed_sections": []
    },
    "kernelspec": {
      "name": "python3",
      "display_name": "Python 3"
    },
    "language_info": {
      "name": "python"
    }
  },
  "cells": [
    {
      "cell_type": "code",
      "execution_count": null,
      "metadata": {
        "id": "Dtn5afpwICOM"
      },
      "outputs": [],
      "source": [
        "import pandas as pd\n",
        "import numpy as np\n",
        "import matplotlib.pyplot as plt"
      ]
    },
    {
      "cell_type": "code",
      "source": [
        "#data from: https://www.jpl.nasa.gov/edu/teach/activity/graphing-global-temperature-trends/\n",
        "!wget -O globalTemp.csv https://www.dropbox.com/s/w5n763mnroln66v/globalTemp.csv?dl=0"
      ],
      "metadata": {
        "colab": {
          "base_uri": "https://localhost:8080/"
        },
        "id": "ffjTwZt8INlB",
        "outputId": "a30aef60-1755-41ca-f96b-3aae3c1e055a"
      },
      "execution_count": null,
      "outputs": [
        {
          "output_type": "stream",
          "name": "stdout",
          "text": [
            "--2022-01-16 07:39:19--  https://www.dropbox.com/s/w5n763mnroln66v/globalTemp.csv?dl=0\n",
            "Resolving www.dropbox.com (www.dropbox.com)... 162.125.5.18, 2620:100:601d:18::a27d:512\n",
            "Connecting to www.dropbox.com (www.dropbox.com)|162.125.5.18|:443... connected.\n",
            "HTTP request sent, awaiting response... 301 Moved Permanently\n",
            "Location: /s/raw/w5n763mnroln66v/globalTemp.csv [following]\n",
            "--2022-01-16 07:39:19--  https://www.dropbox.com/s/raw/w5n763mnroln66v/globalTemp.csv\n",
            "Reusing existing connection to www.dropbox.com:443.\n",
            "HTTP request sent, awaiting response... 302 Found\n",
            "Location: https://ucbd1d0816d0e4113e50972a17eb.dl-eu.dropboxusercontent.com/cd/0/inline/Bd69VRYN3-zRX4-5cj0alSFSePy4uGhb6bOUoTzuYP20wEc7wdrgbUs4I3339YamoQm3Um2n7RNJSZ06-2WBSXKtEj99tAP20C1fsc4Sr-1JrMTkVwH2wLk-rkzoi3moxDrxS7VelyAx6eVobHbfrQZ_/file# [following]\n",
            "--2022-01-16 07:39:20--  https://ucbd1d0816d0e4113e50972a17eb.dl-eu.dropboxusercontent.com/cd/0/inline/Bd69VRYN3-zRX4-5cj0alSFSePy4uGhb6bOUoTzuYP20wEc7wdrgbUs4I3339YamoQm3Um2n7RNJSZ06-2WBSXKtEj99tAP20C1fsc4Sr-1JrMTkVwH2wLk-rkzoi3moxDrxS7VelyAx6eVobHbfrQZ_/file\n",
            "Resolving ucbd1d0816d0e4113e50972a17eb.dl-eu.dropboxusercontent.com (ucbd1d0816d0e4113e50972a17eb.dl-eu.dropboxusercontent.com)... 162.125.5.15, 2620:100:601d:15::a27d:50f\n",
            "Connecting to ucbd1d0816d0e4113e50972a17eb.dl-eu.dropboxusercontent.com (ucbd1d0816d0e4113e50972a17eb.dl-eu.dropboxusercontent.com)|162.125.5.15|:443... connected.\n",
            "HTTP request sent, awaiting response... 200 OK\n",
            "Length: 2950 (2.9K) [text/plain]\n",
            "Saving to: ‘globalTemp.csv’\n",
            "\n",
            "globalTemp.csv      100%[===================>]   2.88K  --.-KB/s    in 0s      \n",
            "\n",
            "2022-01-16 07:39:21 (416 MB/s) - ‘globalTemp.csv’ saved [2950/2950]\n",
            "\n"
          ]
        }
      ]
    },
    {
      "cell_type": "code",
      "source": [
        "df=pd.read_csv('globalTemp.csv')"
      ],
      "metadata": {
        "id": "jv1hb3IWIdUm"
      },
      "execution_count": null,
      "outputs": []
    },
    {
      "cell_type": "code",
      "source": [
        "x = df['Year'].to_numpy()\n",
        "y = df['Actual Temp'].to_numpy()"
      ],
      "metadata": {
        "id": "wjtbGAitIncx"
      },
      "execution_count": null,
      "outputs": []
    },
    {
      "cell_type": "code",
      "source": [
        "#linear regression \n"
      ],
      "metadata": {
        "id": "VRP4x4W11-TC"
      },
      "execution_count": null,
      "outputs": []
    },
    {
      "cell_type": "code",
      "source": [
        "df=df[(df['Year']>1943) & (df['Year']<1975)]\n",
        "x = df['Year'].to_numpy()\n",
        "y = df['Actual Temp'].to_numpy()"
      ],
      "metadata": {
        "id": "T2mwBDMeIfBX"
      },
      "execution_count": null,
      "outputs": []
    }
  ]
}