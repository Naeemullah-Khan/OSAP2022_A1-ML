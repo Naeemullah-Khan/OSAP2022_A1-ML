{
  "nbformat": 4,
  "nbformat_minor": 0,
  "metadata": {
    "colab": {
      "name": "OSAP_PCA.ipynb",
      "provenance": []
    },
    "kernelspec": {
      "name": "python3",
      "display_name": "Python 3"
    },
    "language_info": {
      "name": "python"
    }
  },
  "cells": [
    {
      "cell_type": "code",
      "execution_count": 3,
      "metadata": {
        "colab": {
          "base_uri": "https://localhost:8080/"
        },
        "id": "Nglv4IlrqsJC",
        "outputId": "c31bbd48-86ed-414f-bdc7-e7893d496f2a"
      },
      "outputs": [
        {
          "output_type": "stream",
          "name": "stdout",
          "text": [
            "--2022-01-27 09:37:00--  https://www.dropbox.com/s/eh1kps73fp88m67/faces.dat\n",
            "Resolving www.dropbox.com (www.dropbox.com)... 162.125.81.18, 2620:100:6030:18::a27d:5012\n",
            "Connecting to www.dropbox.com (www.dropbox.com)|162.125.81.18|:443... connected.\n",
            "HTTP request sent, awaiting response... 301 Moved Permanently\n",
            "Location: /s/raw/eh1kps73fp88m67/faces.dat [following]\n",
            "--2022-01-27 09:37:01--  https://www.dropbox.com/s/raw/eh1kps73fp88m67/faces.dat\n",
            "Reusing existing connection to www.dropbox.com:443.\n",
            "HTTP request sent, awaiting response... 302 Found\n",
            "Location: https://uc739d050eb1e399fa60df876caa.dl-eu.dropboxusercontent.com/cd/0/inline/BenTrTd2cUGLfTzHZR9LSEEVr9kp0nE6iV7oFCjF52k7_UI-OIMIMGOYxcKxGsvXTuGUraT6FbvTda7forJjr92igWObf0lAHAyRnoaG67kYZ62UZRIKBNzL8-fs5B1UCQHtcZY2naILUUu_fdGtZUF7/file# [following]\n",
            "--2022-01-27 09:37:01--  https://uc739d050eb1e399fa60df876caa.dl-eu.dropboxusercontent.com/cd/0/inline/BenTrTd2cUGLfTzHZR9LSEEVr9kp0nE6iV7oFCjF52k7_UI-OIMIMGOYxcKxGsvXTuGUraT6FbvTda7forJjr92igWObf0lAHAyRnoaG67kYZ62UZRIKBNzL8-fs5B1UCQHtcZY2naILUUu_fdGtZUF7/file\n",
            "Resolving uc739d050eb1e399fa60df876caa.dl-eu.dropboxusercontent.com (uc739d050eb1e399fa60df876caa.dl-eu.dropboxusercontent.com)... 162.125.81.15, 2620:100:6031:15::a27d:510f\n",
            "Connecting to uc739d050eb1e399fa60df876caa.dl-eu.dropboxusercontent.com (uc739d050eb1e399fa60df876caa.dl-eu.dropboxusercontent.com)|162.125.81.15|:443... connected.\n",
            "HTTP request sent, awaiting response... 302 Found\n",
            "Location: /cd/0/inline2/BengzoNQ1P0SqZE0zeEgst9p50v_V1cqNnNDJSv7eIy8rrGB9_CQXH48EQsTQoALwvLOn4r77eWFjm_8pWmXV0IUT-doJV7RV7sZzBW3jQFRJ7u-qe2y7k-c7bjoLqPUSv5szggGarMf8X769d44Cc3497b0zGipllI88grI9IL5_HiKVtagJLOpkh_NLyTf1lYbCHLZETuD3Exy_Fn4f91TQejb7mOKiofsX_MkDfHQeGzIJc2pkQDX1q6Mqm5L_sP5mn2HbwJIWQwzf4tEv-rmfFjbjNV00laAO-nXGPujSsrWC_Kd2-D7NqjMx_nVC-D_2VooVWkzlnqcbzpbNxNwslaulT2flJXz2gDP9aUldSw8G9nxSzppKIvYZPlYYDQ/file [following]\n",
            "--2022-01-27 09:37:03--  https://uc739d050eb1e399fa60df876caa.dl-eu.dropboxusercontent.com/cd/0/inline2/BengzoNQ1P0SqZE0zeEgst9p50v_V1cqNnNDJSv7eIy8rrGB9_CQXH48EQsTQoALwvLOn4r77eWFjm_8pWmXV0IUT-doJV7RV7sZzBW3jQFRJ7u-qe2y7k-c7bjoLqPUSv5szggGarMf8X769d44Cc3497b0zGipllI88grI9IL5_HiKVtagJLOpkh_NLyTf1lYbCHLZETuD3Exy_Fn4f91TQejb7mOKiofsX_MkDfHQeGzIJc2pkQDX1q6Mqm5L_sP5mn2HbwJIWQwzf4tEv-rmfFjbjNV00laAO-nXGPujSsrWC_Kd2-D7NqjMx_nVC-D_2VooVWkzlnqcbzpbNxNwslaulT2flJXz2gDP9aUldSw8G9nxSzppKIvYZPlYYDQ/file\n",
            "Reusing existing connection to uc739d050eb1e399fa60df876caa.dl-eu.dropboxusercontent.com:443.\n",
            "HTTP request sent, awaiting response... 200 OK\n",
            "Length: 26215200 (25M) [application/x-ns-proxy-autoconfig]\n",
            "Saving to: ‘faces.dat.1’\n",
            "\n",
            "faces.dat.1         100%[===================>]  25.00M  5.31MB/s    in 5.6s    \n",
            "\n",
            "2022-01-27 09:37:10 (4.48 MB/s) - ‘faces.dat.1’ saved [26215200/26215200]\n",
            "\n"
          ]
        }
      ],
      "source": [
        "import numpy as np\n",
        "import matplotlib.pyplot as plt\n",
        "\n",
        "\n",
        "!wget https://www.dropbox.com/s/eh1kps73fp88m67/faces.dat"
      ]
    },
    {
      "cell_type": "code",
      "source": [
        "faces=np.genfromtxt('faces.dat')"
      ],
      "metadata": {
        "id": "DJfLt4y5xQhd"
      },
      "execution_count": 2,
      "outputs": []
    },
    {
      "cell_type": "code",
      "source": [
        "#perfom PCA for eigenfaces, show the reconstruction of faces project on 10,100,200 principle components"
      ],
      "metadata": {
        "id": "7sLovOFixXrL"
      },
      "execution_count": null,
      "outputs": []
    }
  ]
}